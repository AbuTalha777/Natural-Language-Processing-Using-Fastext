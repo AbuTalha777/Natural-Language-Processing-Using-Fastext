{
  "nbformat": 4,
  "nbformat_minor": 0,
  "metadata": {
    "colab": {
      "name": "projectnewdataset.ipynb",
      "provenance": [],
      "collapsed_sections": []
    },
    "kernelspec": {
      "name": "python3",
      "display_name": "Python 3"
    }
  },
  "cells": [
    {
      "cell_type": "code",
      "metadata": {
        "id": "Fs__tMyb2KE3",
        "colab_type": "code",
        "colab": {}
      },
      "source": [
        "import numpy as np\n",
        "import pandas as pd\n"
      ],
      "execution_count": 0,
      "outputs": []
    },
    {
      "cell_type": "code",
      "metadata": {
        "id": "NviYNrR22cAL",
        "colab_type": "code",
        "colab": {}
      },
      "source": [
        "movie=pd.read_csv(\"/content/movies.csv\",index_col='movieId')"
      ],
      "execution_count": 0,
      "outputs": []
    },
    {
      "cell_type": "code",
      "metadata": {
        "id": "sKpje4rG3Mvt",
        "colab_type": "code",
        "outputId": "231dee13-173c-4f2b-abe1-2c19cc64c349",
        "colab": {
          "base_uri": "https://localhost:8080/",
          "height": 139
        }
      },
      "source": [
        "print(movie.head())"
      ],
      "execution_count": 0,
      "outputs": [
        {
          "output_type": "stream",
          "text": [
            "                                      title                                       genres\n",
            "movieId                                                                                 \n",
            "1                          Toy Story (1995)  Adventure|Animation|Children|Comedy|Fantasy\n",
            "2                            Jumanji (1995)                   Adventure|Children|Fantasy\n",
            "3                   Grumpier Old Men (1995)                               Comedy|Romance\n",
            "4                  Waiting to Exhale (1995)                         Comedy|Drama|Romance\n",
            "5        Father of the Bride Part II (1995)                                       Comedy\n"
          ],
          "name": "stdout"
        }
      ]
    },
    {
      "cell_type": "code",
      "metadata": {
        "id": "dPOYUeDK6A4i",
        "colab_type": "code",
        "colab": {}
      },
      "source": [
        "movies=\"\""
      ],
      "execution_count": 0,
      "outputs": []
    },
    {
      "cell_type": "code",
      "metadata": {
        "id": "zdBx19W_6Fyd",
        "colab_type": "code",
        "colab": {}
      },
      "source": [
        "for index,row in movie.iterrows():\n",
        "  movies=movies+(\"__label__\"+row['genres'].replace(\" \",\"_\")+\" \"+row['title']+\"\\n\")"
      ],
      "execution_count": 0,
      "outputs": []
    },
    {
      "cell_type": "code",
      "metadata": {
        "id": "1_wTD4ko7d-q",
        "colab_type": "code",
        "colab": {}
      },
      "source": [
        "movie_txt = open(\"MovieOutput.txt\", \"w\")"
      ],
      "execution_count": 0,
      "outputs": []
    },
    {
      "cell_type": "code",
      "metadata": {
        "id": "YDtd-bRM7qqR",
        "colab_type": "code",
        "outputId": "8592d803-902b-4a6f-cf63-cc06be3eeb92",
        "colab": {
          "base_uri": "https://localhost:8080/",
          "height": 35
        }
      },
      "source": [
        "movie_txt.write(movies)"
      ],
      "execution_count": 0,
      "outputs": [
        {
          "output_type": "execute_result",
          "data": {
            "text/plain": [
              "513918"
            ]
          },
          "metadata": {
            "tags": []
          },
          "execution_count": 25
        }
      ]
    },
    {
      "cell_type": "code",
      "metadata": {
        "id": "dlMgae9F7z9c",
        "colab_type": "code",
        "colab": {}
      },
      "source": [
        "movie_txt.close()"
      ],
      "execution_count": 0,
      "outputs": []
    }
  ]
}